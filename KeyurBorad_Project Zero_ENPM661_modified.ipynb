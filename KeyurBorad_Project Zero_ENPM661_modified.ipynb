{
 "cells": [
  {
   "cell_type": "markdown",
   "metadata": {},
   "source": [
    "# ENPM 661 - Planning for Autonomous Robots"
   ]
  },
  {
   "cell_type": "markdown",
   "metadata": {},
   "source": [
    "## Project 0 - Introduction to Python"
   ]
  },
  {
   "cell_type": "markdown",
   "metadata": {},
   "source": [
    "### 1.0 Lists"
   ]
  },
  {
   "cell_type": "markdown",
   "metadata": {},
   "source": [
    "A list is a sequence of values. Lists need not be homogeneous always which makes it a most powerful tool in Python. Lists are mutable, and hence, they can be altered even after their creation. Lists in Python are ordered and have a definite count.The values in the list, also known as elements are enclosed in square brackets.For example : [25, 40, 50, 80]"
   ]
  },
  {
   "cell_type": "markdown",
   "metadata": {},
   "source": [
    "#### 1.1 Creating a List"
   ]
  },
  {
   "cell_type": "code",
   "execution_count": 20,
   "metadata": {},
   "outputs": [
    {
     "name": "stdout",
     "output_type": "stream",
     "text": [
      "1\n"
     ]
    }
   ],
   "source": [
    "#Creating a list of numbers and printing the second element:\n",
    "num_list = [0, 1, 2, 3, 4, 5]\n",
    "\n",
    "# Accessing and printing the second element\n",
    "print(num_list[1])\n",
    "# Indexing starts with 0!"
   ]
  },
  {
   "cell_type": "markdown",
   "metadata": {},
   "source": [
    "#### 1.2 Modifying the List"
   ]
  },
  {
   "cell_type": "code",
   "execution_count": 21,
   "metadata": {},
   "outputs": [
    {
     "name": "stdout",
     "output_type": "stream",
     "text": [
      "[100, 1, 2, 3, 4, 5]\n"
     ]
    }
   ],
   "source": [
    "#Modifying the first element and printing the updating list\n",
    "num_list[0] = 100\n",
    "print(num_list)"
   ]
  },
  {
   "cell_type": "markdown",
   "metadata": {},
   "source": [
    "#### 1.3 Adding a new element to the List"
   ]
  },
  {
   "cell_type": "code",
   "execution_count": 22,
   "metadata": {},
   "outputs": [
    {
     "name": "stdout",
     "output_type": "stream",
     "text": [
      "[100, 1, 2, 3, 4, 5, 10]\n"
     ]
    }
   ],
   "source": [
    "# Adding number 10\n",
    "num_list.append(10)\n",
    "print(num_list)"
   ]
  },
  {
   "cell_type": "markdown",
   "metadata": {},
   "source": [
    "#### 1.4 Removing an element from the List"
   ]
  },
  {
   "cell_type": "code",
   "execution_count": 23,
   "metadata": {},
   "outputs": [
    {
     "name": "stdout",
     "output_type": "stream",
     "text": [
      "[100, 1, 2, 3, 4, 5]\n"
     ]
    }
   ],
   "source": [
    "#Removing the last element\n",
    "# Method 1 using the in-built pop function and accessing the last element with negative index:\n",
    "num_list.pop(-1)\n",
    "print(num_list)"
   ]
  },
  {
   "cell_type": "code",
   "execution_count": 24,
   "metadata": {},
   "outputs": [
    {
     "name": "stdout",
     "output_type": "stream",
     "text": [
      "[100, 1, 2, 3, 4]\n"
     ]
    }
   ],
   "source": [
    "# Method 2 by finding the index of the last element and deleting it:\n",
    "del num_list[len(num_list)-1]\n",
    "print(num_list)"
   ]
  },
  {
   "cell_type": "markdown",
   "metadata": {},
   "source": [
    "#### 1.5 Sorting the list"
   ]
  },
  {
   "cell_type": "code",
   "execution_count": 25,
   "metadata": {},
   "outputs": [
    {
     "name": "stdout",
     "output_type": "stream",
     "text": [
      "[1, 2, 3, 4, 100]\n"
     ]
    }
   ],
   "source": [
    "num_list.sort()\n",
    "print(num_list)"
   ]
  },
  {
   "cell_type": "markdown",
   "metadata": {},
   "source": [
    "#### 1.6 Slicing the list\n",
    "Lets print the second and third element"
   ]
  },
  {
   "cell_type": "code",
   "execution_count": 26,
   "metadata": {},
   "outputs": [
    {
     "name": "stdout",
     "output_type": "stream",
     "text": [
      "[2, 3]\n"
     ]
    }
   ],
   "source": [
    "print(num_list[1:3])"
   ]
  },
  {
   "cell_type": "markdown",
   "metadata": {},
   "source": [
    "### Practice :\n",
    "Create an empty list.\\\n",
    "Append the list using a for-loop with squares of numbers from 1 to 10.\\\n",
    "Sort and reverse the list.\\\n",
    "Delete the 7th and 8th element and print the list."
   ]
  },
  {
   "cell_type": "code",
   "execution_count": 1,
   "metadata": {},
   "outputs": [],
   "source": [
    "list_=[]"
   ]
  },
  {
   "cell_type": "code",
   "execution_count": 2,
   "metadata": {},
   "outputs": [
    {
     "name": "stdout",
     "output_type": "stream",
     "text": [
      "[1, 4, 9, 16, 25, 36, 49, 64, 81, 100]\n"
     ]
    }
   ],
   "source": [
    "for i in range(1,11):\n",
    "    list_.append(i**2)\n",
    "print(list_)"
   ]
  },
  {
   "cell_type": "code",
   "execution_count": 3,
   "metadata": {},
   "outputs": [
    {
     "name": "stdout",
     "output_type": "stream",
     "text": [
      "[1, 4, 9, 16, 25, 36, 49, 64, 81, 100]\n"
     ]
    }
   ],
   "source": [
    "list_.sort()\n",
    "print(list_)"
   ]
  },
  {
   "cell_type": "code",
   "execution_count": 4,
   "metadata": {},
   "outputs": [
    {
     "name": "stdout",
     "output_type": "stream",
     "text": [
      "[100, 81, 64, 49, 36, 25, 16, 9, 4, 1]\n"
     ]
    }
   ],
   "source": [
    "list_.reverse()\n",
    "print(list_)"
   ]
  },
  {
   "cell_type": "code",
   "execution_count": 8,
   "metadata": {},
   "outputs": [
    {
     "name": "stdout",
     "output_type": "stream",
     "text": [
      "[100, 81, 64, 49, 36, 25, 4, 1]\n"
     ]
    }
   ],
   "source": [
    "del list_[6:8]\n",
    "print(list_)"
   ]
  },
  {
   "cell_type": "code",
   "execution_count": null,
   "metadata": {},
   "outputs": [],
   "source": []
  },
  {
   "cell_type": "markdown",
   "metadata": {},
   "source": [
    "### 2.0  Tuples\n",
    "A Tuple is a collection of Python objects separated by commas. In someways a tuple is similar to a list in terms of indexing, nested objects and repetition but a tuple is immutable unlike lists which are mutable.\n",
    "\n",
    "#### 2.1 Creating tuples"
   ]
  },
  {
   "cell_type": "code",
   "execution_count": 27,
   "metadata": {},
   "outputs": [
    {
     "name": "stdout",
     "output_type": "stream",
     "text": [
      "()\n"
     ]
    }
   ],
   "source": [
    "# An empty tuple \n",
    "empty_tuple = () \n",
    "print (empty_tuple) "
   ]
  },
  {
   "cell_type": "code",
   "execution_count": 28,
   "metadata": {},
   "outputs": [
    {
     "name": "stdout",
     "output_type": "stream",
     "text": [
      "('python', 'geeks')\n",
      "('python', 'geeks')\n"
     ]
    }
   ],
   "source": [
    "# Creating non-empty tuples \n",
    "  \n",
    "# One way of creation \n",
    "tup = 'python', 'geeks'\n",
    "print(tup) \n",
    "  \n",
    "# Another for doing the same \n",
    "tup = ('python', 'geeks') \n",
    "print(tup)"
   ]
  },
  {
   "cell_type": "markdown",
   "metadata": {},
   "source": [
    "#### 2.2 Concatenation of Tuples"
   ]
  },
  {
   "cell_type": "code",
   "execution_count": 29,
   "metadata": {},
   "outputs": [
    {
     "name": "stdout",
     "output_type": "stream",
     "text": [
      "(0, 1, 2, 3, 'python', 'geek')\n"
     ]
    }
   ],
   "source": [
    "# Code for concatenating 2 tuples \n",
    "  \n",
    "tuple1 = (0, 1, 2, 3) \n",
    "tuple2 = ('python', 'geek') \n",
    "  \n",
    "# Concatenating above two \n",
    "print(tuple1 + tuple2) "
   ]
  },
  {
   "cell_type": "markdown",
   "metadata": {},
   "source": [
    "#### 2.3 Nesting of Tuples"
   ]
  },
  {
   "cell_type": "code",
   "execution_count": 30,
   "metadata": {},
   "outputs": [
    {
     "name": "stdout",
     "output_type": "stream",
     "text": [
      "((0, 1, 2, 3), ('python', 'geek'))\n"
     ]
    }
   ],
   "source": [
    "# Code for creating nested tuples \n",
    "  \n",
    "tuple1 = (0, 1, 2, 3) \n",
    "tuple2 = ('python', 'geek') \n",
    "tuple3 = (tuple1, tuple2) \n",
    "print(tuple3) "
   ]
  },
  {
   "cell_type": "markdown",
   "metadata": {},
   "source": [
    "#### 2.4 Repetition in Tuples"
   ]
  },
  {
   "cell_type": "code",
   "execution_count": 34,
   "metadata": {},
   "outputs": [
    {
     "name": "stdout",
     "output_type": "stream",
     "text": [
      "('python', 'python', 'python')\n"
     ]
    }
   ],
   "source": [
    "# Code to create a tuple with repetition \n",
    "  \n",
    "tuple3 = ('python',)*3\n",
    "print(tuple3)"
   ]
  },
  {
   "cell_type": "markdown",
   "metadata": {},
   "source": [
    "#### 2.5 Immutable Tuples"
   ]
  },
  {
   "cell_type": "code",
   "execution_count": 14,
   "metadata": {},
   "outputs": [
    {
     "ename": "TypeError",
     "evalue": "'tuple' object does not support item assignment",
     "output_type": "error",
     "traceback": [
      "\u001b[1;31m---------------------------------------------------------------------------\u001b[0m",
      "\u001b[1;31mTypeError\u001b[0m                                 Traceback (most recent call last)",
      "\u001b[1;32m~\\AppData\\Local\\Temp\\ipykernel_14268\\1982373104.py\u001b[0m in \u001b[0;36m<module>\u001b[1;34m\u001b[0m\n\u001b[0;32m      2\u001b[0m \u001b[1;33m\u001b[0m\u001b[0m\n\u001b[0;32m      3\u001b[0m \u001b[0mtuple1\u001b[0m \u001b[1;33m=\u001b[0m \u001b[1;33m(\u001b[0m\u001b[1;36m0\u001b[0m\u001b[1;33m,\u001b[0m \u001b[1;36m1\u001b[0m\u001b[1;33m,\u001b[0m \u001b[1;36m2\u001b[0m\u001b[1;33m,\u001b[0m \u001b[1;36m3\u001b[0m\u001b[1;33m)\u001b[0m\u001b[1;33m\u001b[0m\u001b[1;33m\u001b[0m\u001b[0m\n\u001b[1;32m----> 4\u001b[1;33m \u001b[0mtuple1\u001b[0m\u001b[1;33m[\u001b[0m\u001b[1;36m0\u001b[0m\u001b[1;33m]\u001b[0m \u001b[1;33m=\u001b[0m \u001b[1;36m4\u001b[0m\u001b[1;33m\u001b[0m\u001b[1;33m\u001b[0m\u001b[0m\n\u001b[0m\u001b[0;32m      5\u001b[0m \u001b[0mprint\u001b[0m\u001b[1;33m(\u001b[0m\u001b[0mtuple1\u001b[0m\u001b[1;33m)\u001b[0m\u001b[1;33m\u001b[0m\u001b[1;33m\u001b[0m\u001b[0m\n",
      "\u001b[1;31mTypeError\u001b[0m: 'tuple' object does not support item assignment"
     ]
    }
   ],
   "source": [
    "# Code to test that tuples are immutable (You will be getting an error message)\n",
    "  \n",
    "tuple1 = (0, 1, 2, 3) \n",
    "tuple1[0] = 4\n",
    "print(tuple1)"
   ]
  },
  {
   "cell_type": "markdown",
   "metadata": {},
   "source": [
    "#### 2.6 Slicing in Tuples"
   ]
  },
  {
   "cell_type": "code",
   "execution_count": 15,
   "metadata": {},
   "outputs": [
    {
     "name": "stdout",
     "output_type": "stream",
     "text": [
      "(1, 2, 3)\n",
      "(3, 2, 1, 0)\n",
      "(2, 3)\n"
     ]
    }
   ],
   "source": [
    "# Code to test slicing \n",
    "  \n",
    "tuple1 = (0 ,1, 2, 3) \n",
    "print(tuple1[1:]) \n",
    "print(tuple1[::-1]) \n",
    "print(tuple1[2:4])"
   ]
  },
  {
   "cell_type": "markdown",
   "metadata": {},
   "source": [
    "#### 2.7 Deleting a Tuple"
   ]
  },
  {
   "cell_type": "code",
   "execution_count": 16,
   "metadata": {},
   "outputs": [
    {
     "ename": "NameError",
     "evalue": "name 'tuple3' is not defined",
     "output_type": "error",
     "traceback": [
      "\u001b[1;31m---------------------------------------------------------------------------\u001b[0m",
      "\u001b[1;31mNameError\u001b[0m                                 Traceback (most recent call last)",
      "\u001b[1;32m~\\AppData\\Local\\Temp\\ipykernel_14268\\4217391685.py\u001b[0m in \u001b[0;36m<module>\u001b[1;34m\u001b[0m\n\u001b[0;32m      3\u001b[0m \u001b[0mtuple3\u001b[0m \u001b[1;33m=\u001b[0m \u001b[1;33m(\u001b[0m\u001b[1;36m0\u001b[0m\u001b[1;33m,\u001b[0m \u001b[1;36m1\u001b[0m\u001b[1;33m)\u001b[0m\u001b[1;33m\u001b[0m\u001b[1;33m\u001b[0m\u001b[0m\n\u001b[0;32m      4\u001b[0m \u001b[1;32mdel\u001b[0m \u001b[0mtuple3\u001b[0m\u001b[1;33m\u001b[0m\u001b[1;33m\u001b[0m\u001b[0m\n\u001b[1;32m----> 5\u001b[1;33m \u001b[0mprint\u001b[0m\u001b[1;33m(\u001b[0m\u001b[0mtuple3\u001b[0m\u001b[1;33m)\u001b[0m\u001b[1;33m\u001b[0m\u001b[1;33m\u001b[0m\u001b[0m\n\u001b[0m",
      "\u001b[1;31mNameError\u001b[0m: name 'tuple3' is not defined"
     ]
    }
   ],
   "source": [
    "# Code for deleting a tuple \n",
    "  \n",
    "tuple3 = (0, 1) \n",
    "del tuple3 \n",
    "print(tuple3)"
   ]
  },
  {
   "cell_type": "markdown",
   "metadata": {},
   "source": [
    "#### 2.8 Finding Length of a Tuple"
   ]
  },
  {
   "cell_type": "code",
   "execution_count": 17,
   "metadata": {},
   "outputs": [
    {
     "name": "stdout",
     "output_type": "stream",
     "text": [
      "2\n"
     ]
    }
   ],
   "source": [
    "# Code for printing the length of a tuple \n",
    "  \n",
    "tuple2 = ('python', 'geek') \n",
    "print(len(tuple2))"
   ]
  },
  {
   "cell_type": "markdown",
   "metadata": {},
   "source": [
    "#### 2.9 Converting list to a Tuple"
   ]
  },
  {
   "cell_type": "code",
   "execution_count": 35,
   "metadata": {},
   "outputs": [
    {
     "name": "stdout",
     "output_type": "stream",
     "text": [
      "(0, 1, 2)\n",
      "('p', 'y', 't', 'h', 'o', 'n')\n",
      "('k', 'e', 'y', 'u', 'r')\n"
     ]
    }
   ],
   "source": [
    "# Code for converting a list and a string into a tuple \n",
    "  \n",
    "list1 = [0, 1, 2] \n",
    "print(tuple(list1)) \n",
    "print(tuple('python')) # string 'python'\n",
    "d=tuple('keyur')\n",
    "print(d) "
   ]
  },
  {
   "cell_type": "markdown",
   "metadata": {},
   "source": [
    "#### 2.10 Tuples in a loop"
   ]
  },
  {
   "cell_type": "code",
   "execution_count": 36,
   "metadata": {},
   "outputs": [
    {
     "name": "stdout",
     "output_type": "stream",
     "text": [
      "(('ENPM661',),)\n",
      "((('ENPM661',),),)\n",
      "(((('ENPM661',),),),)\n",
      "((((('ENPM661',),),),),)\n",
      "(((((('ENPM661',),),),),),)\n"
     ]
    }
   ],
   "source": [
    "#python code for creating tuples in a loop \n",
    "  \n",
    "tup = ('ENPM661',) \n",
    "n = 5  #Number of time loop runs \n",
    "for i in range(int(n)): \n",
    "    tup = (tup,) \n",
    "    print(tup)"
   ]
  },
  {
   "cell_type": "markdown",
   "metadata": {},
   "source": [
    "#### 2.11 Using max() , min()"
   ]
  },
  {
   "cell_type": "code",
   "execution_count": 43,
   "metadata": {},
   "outputs": [
    {
     "name": "stdout",
     "output_type": "stream",
     "text": [
      "Maximum element in tuples 1,2: wA,qC\n",
      "Minimum element in tuples 1,2: B,D\n"
     ]
    }
   ],
   "source": [
    "# A python program to demonstrate the use of  \n",
    "# cmp(), max(), min() \n",
    "  \n",
    "tuple1 = ('wA', 'B') \n",
    "tuple2 = ('qC', \"D\") \n",
    " \n",
    "print ('Maximum element in tuples 1,2: ' + \n",
    "        str(max(tuple1)) +  ',' + \n",
    "        str(max(tuple2))) \n",
    "print ('Minimum element in tuples 1,2: ' + \n",
    "     str(min(tuple1)) + ','  + str(min(tuple2))) \n"
   ]
  },
  {
   "cell_type": "markdown",
   "metadata": {},
   "source": [
    "### 3.0 Dictionary\n",
    "Dictionary in Python is an unordered collection of data values, used to store data values like a map, which unlike other Data Types that hold only single value as an element, Dictionary holds key:value pair. Key value is provided in the dictionary to make it more optimized. Each key-value pair in a Dictionary is separated by a colon :, whereas each key is separated by a ‘comma’.\n",
    "\n",
    "A Dictionary in Python works similar to the Dictionary in a real world. Keys of a Dictionary must be unique and of immutable data type such as Strings, Integers and tuples, but the key-values can be repeated and be of any type.\n",
    "\n",
    "#### 3.1 Creating a Dictionary\n",
    "In Python, a Dictionary can be created by placing sequence of elements within curly {} braces, separated by ‘comma’. Dictionary holds a pair of values, one being the Key and the other corresponding pair element being its Key:value. Values in a dictionary can be of any datatype and can be duplicated, whereas keys can’t be repeated and must be immutable.\n",
    "\n",
    "Dictionary can also be created by the built-in function dict(). An empty dictionary can be created by just placing to curly braces{}."
   ]
  },
  {
   "cell_type": "code",
   "execution_count": 44,
   "metadata": {},
   "outputs": [
    {
     "name": "stdout",
     "output_type": "stream",
     "text": [
      "Empty Dictionary: \n",
      "{}\n",
      "\n",
      "Dictionary with the use of Integer Keys: \n",
      "{1: 'Geeks', 2: 'For', 3: 'Geeks'}\n",
      "\n",
      "Dictionary with the use of Mixed Keys: \n",
      "{'Name': 'Geeks', 1: [1, 2, 3, 4]}\n",
      "\n",
      "Dictionary with the use of dict(): \n",
      "{1: 'Geeks', 2: 'For', 3: 'Geeks'}\n",
      "\n",
      "Dictionary with each item as a pair: \n",
      "{1: 'Geeks', 2: 'For'}\n"
     ]
    }
   ],
   "source": [
    "# Creating an empty Dictionary \n",
    "Dict = {} \n",
    "print(\"Empty Dictionary: \") \n",
    "print(Dict) \n",
    "  \n",
    "# Creating a Dictionary  \n",
    "# with Integer Keys \n",
    "Dict = {1: 'Geeks', 2: 'For', 3: 'Geeks'} \n",
    "print(\"\\nDictionary with the use of Integer Keys: \") \n",
    "print(Dict) \n",
    "  \n",
    "# Creating a Dictionary  \n",
    "# with Mixed keys \n",
    "Dict = {'Name': 'Geeks', 1: [1, 2, 3, 4]} \n",
    "print(\"\\nDictionary with the use of Mixed Keys: \") \n",
    "print(Dict) \n",
    "  \n",
    "# Creating a Dictionary \n",
    "# with dict() method \n",
    "Dict = dict({1: 'Geeks', 2: 'For', 3:'Geeks'}) \n",
    "print(\"\\nDictionary with the use of dict(): \") \n",
    "print(Dict) \n",
    "  \n",
    "# Creating a Dictionary \n",
    "# with each item as a Pair \n",
    "Dict = dict([(1, 'Geeks'), (2, 'For')]) \n",
    "print(\"\\nDictionary with each item as a pair: \") \n",
    "print(Dict) \n"
   ]
  },
  {
   "cell_type": "markdown",
   "metadata": {},
   "source": [
    "#### 3.2 Nested Dictionary"
   ]
  },
  {
   "cell_type": "code",
   "execution_count": 45,
   "metadata": {},
   "outputs": [
    {
     "name": "stdout",
     "output_type": "stream",
     "text": [
      "{1: 'Geeks', 2: 'For', 3: {'A': 'Welcome', 'B': 'To', 'C': 'Geeks'}}\n"
     ]
    }
   ],
   "source": [
    "\n",
    "# Creating a Nested Dictionary  \n",
    "# as shown in the below image \n",
    "Dict = {1: 'Geeks', 2: 'For',  \n",
    "        3:{'A' : 'Welcome', 'B' : 'To', 'C' : 'Geeks'}} \n",
    "  \n",
    "print(Dict)  \n"
   ]
  },
  {
   "cell_type": "markdown",
   "metadata": {},
   "source": [
    "#### 3.3 Adding elements to a Dictionary\n",
    "In Python Dictionary, addition of elements can be done in multiple ways. One value at a time can be added to a Dictionary by defining value along with the key e.g. Dict[Key] = ‘Value’. Updating an existing value in a Dictionary can be done by using the built-in update() method. Nested key values can also be added to an existing Dictionary.\n",
    "\n",
    "Note- While adding a value, if the key value already exists, the value gets updated otherwise a new Key with the value is added to the Dictionary."
   ]
  },
  {
   "cell_type": "code",
   "execution_count": 12,
   "metadata": {},
   "outputs": [
    {
     "name": "stdout",
     "output_type": "stream",
     "text": [
      "Empty Dictionary: \n",
      "{}\n",
      "\n",
      "Dictionary after adding 3 elements: \n",
      "{0: 'Geeks', 2: 'For', 3: 1}\n",
      "\n",
      "Dictionary after adding 3 elements: \n",
      "{0: 'Geeks', 2: 'For', 3: 1, 'Value_set': (2, 3, 4)}\n",
      "\n",
      "Updated key value: \n",
      "{0: 'Geeks', 2: 'Welcome', 3: 1, 'Value_set': (2, 3, 4)}\n",
      "\n",
      "Adding a Nested Key: \n",
      "{0: 'Geeks', 2: 'Welcome', 3: 1, 'Value_set': (2, 3, 4), 5: {'Nested': {'1': 'Life', '2': 'Geeks'}}}\n"
     ]
    }
   ],
   "source": [
    "\n",
    "# Creating an empty Dictionary \n",
    "Dict = {} \n",
    "print(\"Empty Dictionary: \") \n",
    "print(Dict) \n",
    "  \n",
    "# Adding elements one at a time \n",
    "Dict[0] = 'Geeks'\n",
    "Dict[2] = 'For'\n",
    "Dict[3] = 1\n",
    "print(\"\\nDictionary after adding 3 elements: \") \n",
    "print(Dict) \n",
    "  \n",
    "# Adding set of values  \n",
    "# to a single Key \n",
    "Dict['Value_set'] = 2, 3, 4\n",
    "print(\"\\nDictionary after adding 3 elements: \") \n",
    "print(Dict) \n",
    "  \n",
    "# Updating existing Key's Value \n",
    "Dict[2] = 'Welcome'\n",
    "print(\"\\nUpdated key value: \") \n",
    "print(Dict) \n",
    "  \n",
    "# Adding Nested Key value to Dictionary \n",
    "Dict[5] = {'Nested' :{'1' : 'Life', '2' : 'Geeks'}} \n",
    "print(\"\\nAdding a Nested Key: \") \n",
    "print(Dict) \n"
   ]
  },
  {
   "cell_type": "code",
   "execution_count": 13,
   "metadata": {},
   "outputs": [
    {
     "name": "stdout",
     "output_type": "stream",
     "text": [
      "{'1': 'Life', '2': 'Geeks'}\n"
     ]
    }
   ],
   "source": [
    "print(Dict[5]['Nested'])"
   ]
  },
  {
   "cell_type": "code",
   "execution_count": 14,
   "metadata": {},
   "outputs": [
    {
     "name": "stdout",
     "output_type": "stream",
     "text": [
      "{'Nested': {'1': 'Life', '2': 'Geeks', 3: 'Enjoy'}}\n"
     ]
    }
   ],
   "source": [
    "Dict[5][\"Nested\"][3]=\"Enjoy\"\n",
    "print(Dict[5])"
   ]
  },
  {
   "cell_type": "code",
   "execution_count": 16,
   "metadata": {},
   "outputs": [
    {
     "name": "stdout",
     "output_type": "stream",
     "text": [
      "{0: 'Geeks', 2: 'Welcome', 3: 1, 'Value_set': (2, 3, 4), 5: {'Nested': {'1': 'Life', '2': 'Geeks'}}}\n"
     ]
    }
   ],
   "source": [
    "Dict[5]['Nested'].pop(3)\n",
    "print(Dict)"
   ]
  },
  {
   "cell_type": "markdown",
   "metadata": {},
   "source": [
    "#### 3.4 Accessing elements from a Dictionary\n",
    "In order to access the items of a dictionary refer to its key name.Key can be used inside square brackets.There is also a method called get() that will also help in acessing the element from a dictionary."
   ]
  },
  {
   "cell_type": "code",
   "execution_count": 47,
   "metadata": {},
   "outputs": [
    {
     "name": "stdout",
     "output_type": "stream",
     "text": [
      "Acessing a element using key:\n",
      "For\n",
      "Acessing a element using key:\n",
      "Geeks\n",
      "Acessing a element using get:\n",
      "Geeks\n"
     ]
    }
   ],
   "source": [
    "# Python program to demonstrate   \n",
    "# accesing a element from a Dictionary  \n",
    "  \n",
    "# Creating a Dictionary  \n",
    "Dict = {1: 'Geeks', 'name': 'For', 3: 'Geeks'} \n",
    "  \n",
    "# accessing a element using key \n",
    "print(\"Acessing a element using key:\") \n",
    "print(Dict['name']) \n",
    "  \n",
    "# accessing a element using key \n",
    "print(\"Acessing a element using key:\") \n",
    "print(Dict[1]) \n",
    "  \n",
    "# accessing a element using get() \n",
    "# method \n",
    "print(\"Acessing a element using get:\") \n",
    "print(Dict.get(3)) "
   ]
  },
  {
   "cell_type": "markdown",
   "metadata": {},
   "source": [
    "#### 3.5 Removing Elements from Dictionary\n",
    "In Python Dictionary, deletion of keys can be done by using the del keyword. Using del keyword, specific values from a dictionary as well as whole dictionary can be deleted. Other functions like pop() and popitem() can also be used for deleting specific values and arbitrary values from a Dictionary. All the items from a dictionary can be deleted at once by using clear() method. Items in a Nested dictionary can also be deleted by using del keyword and providing specific nested key and particular key to be deleted from that nested Dictionary. Note- del Dict will delete the entire dictionary and hence printing it after deletion will raise an Error."
   ]
  },
  {
   "cell_type": "code",
   "execution_count": 48,
   "metadata": {},
   "outputs": [
    {
     "name": "stdout",
     "output_type": "stream",
     "text": [
      "Initial Dictionary: \n",
      "{5: 'Welcome', 6: 'To', 7: 'Geeks', 'A': {1: 'Geeks', 2: 'For', 3: 'Geeks'}, 'B': {1: 'Geeks', 2: 'Life'}}\n",
      "\n",
      "Deleting a specific key: \n",
      "{5: 'Welcome', 7: 'Geeks', 'A': {1: 'Geeks', 2: 'For', 3: 'Geeks'}, 'B': {1: 'Geeks', 2: 'Life'}}\n",
      "\n",
      "Deleting a key from Nested Dictionary: \n",
      "{5: 'Welcome', 7: 'Geeks', 'A': {1: 'Geeks', 3: 'Geeks'}, 'B': {1: 'Geeks', 2: 'Life'}}\n",
      "\n",
      "Popping specific element: \n",
      "{7: 'Geeks', 'A': {1: 'Geeks', 3: 'Geeks'}, 'B': {1: 'Geeks', 2: 'Life'}}\n",
      "\n",
      "Pops an arbitrary key-value pair: \n",
      "{7: 'Geeks', 'A': {1: 'Geeks', 3: 'Geeks'}}\n",
      "\n",
      "Deleting Entire Dictionary: \n",
      "{}\n"
     ]
    }
   ],
   "source": [
    "\n",
    "# Initial Dictionary \n",
    "Dict = { 5 : 'Welcome', 6 : 'To', 7 : 'Geeks', \n",
    "        'A' : {1 : 'Geeks', 2 : 'For', 3 : 'Geeks'}, \n",
    "        'B' : {1 : 'Geeks', 2 : 'Life'}} \n",
    "print(\"Initial Dictionary: \") \n",
    "print(Dict) \n",
    "  \n",
    "# Deleting a Key value \n",
    "del Dict[6] \n",
    "print(\"\\nDeleting a specific key: \") \n",
    "print(Dict) \n",
    "  \n",
    "# Deleting a Key from \n",
    "# Nested Dictionary \n",
    "del Dict['A'][2] \n",
    "print(\"\\nDeleting a key from Nested Dictionary: \") \n",
    "print(Dict) \n",
    "  \n",
    "# Deleting a Key  \n",
    "# using pop() \n",
    "Dict.pop(5) \n",
    "print(\"\\nPopping specific element: \") \n",
    "print(Dict) \n",
    "  \n",
    "# Deleting an arbitrary Key-value pair \n",
    "# using popitem() \n",
    "Dict.popitem() \n",
    "print(\"\\nPops an arbitrary key-value pair: \") \n",
    "print(Dict) \n",
    "  \n",
    "# Deleting entire Dictionary \n",
    "Dict.clear() \n",
    "print(\"\\nDeleting Entire Dictionary: \") \n",
    "print(Dict) "
   ]
  },
  {
   "cell_type": "markdown",
   "metadata": {},
   "source": [
    "#### 3.6 Dictionary Methods\n",
    "##### 3.6.1 Copy()\n",
    "They copy() method returns a shallow copy of the dictionary.\n",
    "\n",
    "###### Syntax\n",
    "dict.copy()"
   ]
  },
  {
   "cell_type": "code",
   "execution_count": 49,
   "metadata": {},
   "outputs": [
    {
     "name": "stdout",
     "output_type": "stream",
     "text": [
      "{1: 'geeks', 2: 'for'}\n"
     ]
    }
   ],
   "source": [
    "original = {1:'geeks', 2:'for'} \n",
    "  \n",
    "## Write code to copy \"original\" dictionary and print the newly copied dictionary\n",
    "\n",
    "copied=original.copy()\n",
    "print(copied)"
   ]
  },
  {
   "cell_type": "markdown",
   "metadata": {},
   "source": [
    "##### 3.6.2 clear()\n",
    "The clear() method removes all items from the dictionary.\n",
    "\n",
    "##### Syntax\n",
    "dict.clear()"
   ]
  },
  {
   "cell_type": "code",
   "execution_count": 50,
   "metadata": {},
   "outputs": [
    {
     "name": "stdout",
     "output_type": "stream",
     "text": [
      "{}\n"
     ]
    }
   ],
   "source": [
    "text = {1: \"geeks\", 2: \"for\"} \n",
    "  \n",
    "# write the code to clear the content of the dictionary and then print the empty dictionary \n",
    "text.clear()\n",
    "print(text)"
   ]
  },
  {
   "cell_type": "markdown",
   "metadata": {},
   "source": [
    "##### 3.6.3 pop()\n",
    "Python pop() method removes an element from the dictionary. It removes the element which is associated to the specified key.\n",
    "\n",
    "If specified key is present in the dictionary, it remove and return its value.\n",
    "\n",
    "If the specified key is not present, it throws an error KeyError.\n",
    "\n",
    "##### Syntax\n",
    "dict.pop(key, def)\n",
    "\n",
    "##### Parameters :\n",
    "key : The key whose key-value pair has to be returned and removed.\n",
    "\n",
    "def : The default value to return if specified key is not present."
   ]
  },
  {
   "cell_type": "code",
   "execution_count": 23,
   "metadata": {},
   "outputs": [
    {
     "name": "stdout",
     "output_type": "stream",
     "text": [
      "525\n"
     ]
    }
   ],
   "source": [
    "# Python dictionary pop() Method  \n",
    "# Creating a dictionary  \n",
    "inventory = {'shirts': 25, 'paints': 220, 'shoes': 525, 'tshirts': 217}  \n",
    "# Calling method  \n",
    "element = inventory.pop('shoes')  \n",
    "# Displaying result  \n",
    "print(element)  "
   ]
  },
  {
   "cell_type": "code",
   "execution_count": 24,
   "metadata": {},
   "outputs": [
    {
     "name": "stdout",
     "output_type": "stream",
     "text": [
      "100\n"
     ]
    }
   ],
   "source": [
    "inventory = {'shirts': 25, 'paints': 220, 'tshirts': 217}  \n",
    "\n",
    "# write code to get the value for the key 'shoes'. If the key is not is the dictionary return 100\n",
    "print(inventory.get('shoes', 100))"
   ]
  },
  {
   "cell_type": "markdown",
   "metadata": {},
   "source": [
    "##### 3.6.4 popitem()\n",
    "popitem() method in dictionary helps to achieve similar purpose. It removes the arbitrary key-value pair from the dictionary and returns it as tuple.\n",
    "\n",
    "##### Syntax\n",
    "dict.popitem()\n",
    "\n",
    "##### Parameters : None\n",
    "\n",
    "Returns : A tuple containing the arbitrary key-value pair from dictionary. That pair is removed from dictionary."
   ]
  },
  {
   "cell_type": "code",
   "execution_count": 56,
   "metadata": {},
   "outputs": [
    {
     "name": "stdout",
     "output_type": "stream",
     "text": [
      "{'Nikhil': 7, 'Akshat': 1}\n",
      "('Akash', 2)\n"
     ]
    }
   ],
   "source": [
    "\n",
    "test_dict = { \"Nikhil\" : 7, \"Akshat\" : 1, \"Akash\" : 2 } \n",
    "  \n",
    " \n",
    "  \n",
    "# write the code using popitem() to return + remove arbitrary key value pair and print it \n",
    "removed=test_dict.popitem()\n",
    "print(test_dict)\n",
    "print(removed)"
   ]
  },
  {
   "cell_type": "markdown",
   "metadata": {},
   "source": [
    "##### 3.6.5 get()\n",
    "This method returns the value for the given key, if present in the dictionary. If not, then it will return None (if get() is used with only one argument).\n",
    "\n",
    "##### Syntax\n",
    "Dict.get(key, default=None)"
   ]
  },
  {
   "cell_type": "code",
   "execution_count": 22,
   "metadata": {},
   "outputs": [
    {
     "name": "stdout",
     "output_type": "stream",
     "text": [
      "1\n",
      "Not found\n"
     ]
    }
   ],
   "source": [
    "dic = {\"A\":1, \"B\":2} \n",
    "print(dic.get(\"A\")) \n",
    "\n",
    "# write the code to get the value for key 'C'. Print \"Not found\" if the key is not present\n",
    "\n",
    "print(dic.get(\"c\",\"Not found\"))"
   ]
  },
  {
   "cell_type": "markdown",
   "metadata": {},
   "source": [
    "##### 3.6.6 values()\n",
    "values() is an inbuilt method in Python programming language that returns a list of all the values available in a given dictionary.\n",
    "\n",
    "##### Syntax\n",
    "dictionary_name.values()"
   ]
  },
  {
   "cell_type": "code",
   "execution_count": 18,
   "metadata": {},
   "outputs": [
    {
     "name": "stdout",
     "output_type": "stream",
     "text": [
      "[2, 3, 4]\n"
     ]
    }
   ],
   "source": [
    "dictionary = {\"A\": 2, \"B\": 3, \"C\": 4} \n",
    "# write the code to print the values in the dictionary\n",
    "values_list=list(dictionary.values())\n",
    "print(values_list)"
   ]
  },
  {
   "cell_type": "markdown",
   "metadata": {},
   "source": [
    "##### 3.6.7 update()\n",
    "In Python Dictionary, update() method updates the dictionary with the elements from the another dictionary object or from an iterable of key/value pairs.\n",
    "\n",
    "##### Syntax\n",
    "dict.update([other_dictionary])\n",
    "\n",
    "Parameters: This method takes either a dictionary or an iterable object of key/value pairs (generally tuples) as parameters.\n",
    "\n",
    "Returns: It doesn’t return any value but updates the Dictionary with elements from a dictionary object or an iterable object of key/value pairs."
   ]
  },
  {
   "cell_type": "code",
   "execution_count": 19,
   "metadata": {},
   "outputs": [
    {
     "name": "stdout",
     "output_type": "stream",
     "text": [
      "Original Dictionary:\n",
      "{'A': 'Geeks', 'B': 'For'}\n",
      "Updated Dictionary:\n",
      "{'A': 'Geeks', 'B': 'Geeks'}\n"
     ]
    }
   ],
   "source": [
    "# Dictionary with three items  \n",
    "Dictionary1 = { 'A': 'Geeks', 'B': 'For', } \n",
    "Dictionary2 = { 'B': 'Geeks' } \n",
    "  \n",
    "# Dictionary before Updation \n",
    "print(\"Original Dictionary:\") \n",
    "print(Dictionary1) \n",
    "\n",
    "# Write the code to update \"Dictionary1\" with \"Dictionary2\" and print\n",
    "Dictionary1.update(Dictionary2)\n",
    "print(\"Updated Dictionary:\") \n",
    "print(Dictionary1) \n"
   ]
  },
  {
   "cell_type": "markdown",
   "metadata": {},
   "source": [
    "### 4.0 Loop: 'for'"
   ]
  },
  {
   "cell_type": "markdown",
   "metadata": {},
   "source": [
    "#### Creating a new List with the name \"my_list\""
   ]
  },
  {
   "cell_type": "code",
   "execution_count": 68,
   "metadata": {},
   "outputs": [],
   "source": [
    "my_list = [1, 2, 3, 4, 'Python', 'is', 'neat']"
   ]
  },
  {
   "cell_type": "markdown",
   "metadata": {},
   "source": [
    "Iterating through each term in the List. Printing each element of the List"
   ]
  },
  {
   "cell_type": "code",
   "execution_count": 69,
   "metadata": {},
   "outputs": [
    {
     "name": "stdout",
     "output_type": "stream",
     "text": [
      "1\n",
      "2\n",
      "3\n",
      "4\n",
      "Python\n",
      "is\n",
      "neat\n"
     ]
    }
   ],
   "source": [
    "for item in my_list:\n",
    "    print(item) "
   ]
  },
  {
   "cell_type": "markdown",
   "metadata": {},
   "source": [
    "#### Syntax: \"break\"\n",
    "\n",
    "Iterating through the list and if target value is reached, break.\n",
    "\n",
    "This will break and terminate the loop when the required keyword is found."
   ]
  },
  {
   "cell_type": "code",
   "execution_count": 70,
   "metadata": {},
   "outputs": [
    {
     "name": "stdout",
     "output_type": "stream",
     "text": [
      "1\n",
      "2\n",
      "3\n",
      "4\n"
     ]
    }
   ],
   "source": [
    "for item in my_list:\n",
    "    if item == 'Python':\n",
    "        break\n",
    "    print(item)"
   ]
  },
  {
   "cell_type": "markdown",
   "metadata": {},
   "source": [
    "#### Syntax \"continue\"\n",
    "\n",
    "Iterating through the list, if target is reached, move on to the next element\n",
    "\n",
    "The number '4' doesn't get printed\n",
    "\n",
    "Continue to the next item without executing the lines occuring after continue inside the loop."
   ]
  },
  {
   "cell_type": "code",
   "execution_count": 71,
   "metadata": {},
   "outputs": [
    {
     "name": "stdout",
     "output_type": "stream",
     "text": [
      "1\n",
      "2\n",
      "3\n",
      "Python\n",
      "is\n",
      "neat\n"
     ]
    }
   ],
   "source": [
    "for item in my_list:\n",
    "    if item == 4:\n",
    "        continue\n",
    "    print(item)"
   ]
  },
  {
   "cell_type": "markdown",
   "metadata": {},
   "source": [
    "#### Syntax \"enumerate\"\n",
    "\n",
    "Enumerate() method adds a counter to an iterable and returns it in a form of enumerate object. \n",
    "\n",
    "This enumerate object can then be used directly in for loops"
   ]
  },
  {
   "cell_type": "code",
   "execution_count": 72,
   "metadata": {},
   "outputs": [
    {
     "name": "stdout",
     "output_type": "stream",
     "text": [
      "idx: 0, value: 1\n",
      "idx: 1, value: 2\n",
      "idx: 2, value: 3\n",
      "idx: 3, value: 4\n",
      "idx: 4, value: Python\n",
      "idx: 5, value: is\n",
      "idx: 6, value: neat\n"
     ]
    }
   ],
   "source": [
    "for idx, val in enumerate(my_list):\n",
    "    print('idx: {}, value: {}'.format(idx, val))"
   ]
  },
  {
   "cell_type": "markdown",
   "metadata": {},
   "source": [
    "#### Syntax \"range\"\n",
    "To control the iterations of \"for loop\", range can be used."
   ]
  },
  {
   "cell_type": "code",
   "execution_count": 73,
   "metadata": {},
   "outputs": [
    {
     "name": "stdout",
     "output_type": "stream",
     "text": [
      "0\n",
      "1\n",
      "2\n",
      "3\n",
      "4\n"
     ]
    }
   ],
   "source": [
    "for number in range(5):\n",
    "    print(number)"
   ]
  },
  {
   "cell_type": "code",
   "execution_count": 74,
   "metadata": {},
   "outputs": [
    {
     "name": "stdout",
     "output_type": "stream",
     "text": [
      "2\n",
      "3\n",
      "4\n"
     ]
    }
   ],
   "source": [
    "for number in range(2, 5):\n",
    "    print(number)"
   ]
  },
  {
   "cell_type": "markdown",
   "metadata": {},
   "source": [
    "The last number '2' specifies the step size of each iteration"
   ]
  },
  {
   "cell_type": "code",
   "execution_count": 75,
   "metadata": {},
   "outputs": [
    {
     "name": "stdout",
     "output_type": "stream",
     "text": [
      "0\n",
      "2\n",
      "4\n",
      "6\n",
      "8\n"
     ]
    }
   ],
   "source": [
    "for number in range(0, 10, 2):\n",
    "    print(number)"
   ]
  },
  {
   "cell_type": "markdown",
   "metadata": {},
   "source": [
    "#### Create a list of strings based on a list of numbers\n",
    "The rules:\n",
    "\n",
    "If the number is a multiple of five and odd, the string should be 'five odd'\n",
    "\n",
    "If the number is a multiple of five and even, the string should be 'five even'\n",
    "\n",
    "If the number is odd, the string is 'odd'\n",
    "\n",
    "If the number is even, the string is 'even'\n",
    "\n",
    "(P.S. Refer textbook for mathematical operations - Section 2.5)"
   ]
  },
  {
   "cell_type": "code",
   "execution_count": 77,
   "metadata": {},
   "outputs": [],
   "source": [
    "numbers = [1, 3, 4, 6, 81, 80, 100, 95]"
   ]
  },
  {
   "cell_type": "code",
   "execution_count": 78,
   "metadata": {},
   "outputs": [
    {
     "name": "stdout",
     "output_type": "stream",
     "text": [
      "['odd', 'odd', 'even', 'even', 'odd', 'five even', 'five even', 'five odd']\n"
     ]
    }
   ],
   "source": [
    "# Your implementation\n",
    "my_list = []\n",
    "for i in numbers:\n",
    "    if i%5==0 and i%2==0:\n",
    "        my_list.append(\"five even\")\n",
    "    elif i%5==0 and i%2!=0:\n",
    "        my_list.append(\"five odd\")\n",
    "    elif i%5!=0 and i%2==0:\n",
    "        my_list.append(\"even\")\n",
    "    else:\n",
    "        my_list.append(\"odd\")\n",
    "print(my_list)\n"
   ]
  },
  {
   "cell_type": "markdown",
   "metadata": {},
   "source": [
    "Assert will cross check if the output generated is the required ouput. If not, it will throw an error"
   ]
  },
  {
   "cell_type": "code",
   "execution_count": 79,
   "metadata": {},
   "outputs": [],
   "source": [
    "assert my_list == ['odd', 'odd', 'even', 'even', 'odd', 'five even', 'five even', 'five odd']"
   ]
  },
  {
   "cell_type": "markdown",
   "metadata": {},
   "source": [
    "### Loop: 'while'\n",
    "\n",
    "With the while loop we can execute a set of statements as long as a condition is true.\n",
    "\n",
    "The while loop requires relevant variables to be ready, in this example we need to define an indexing variable, i, which we set to 1."
   ]
  },
  {
   "cell_type": "code",
   "execution_count": 80,
   "metadata": {},
   "outputs": [
    {
     "name": "stdout",
     "output_type": "stream",
     "text": [
      "1\n",
      "2\n",
      "3\n",
      "4\n",
      "5\n"
     ]
    }
   ],
   "source": [
    "i = 1\n",
    "while i < 6:\n",
    "    print(i)\n",
    "    i += 1"
   ]
  },
  {
   "cell_type": "markdown",
   "metadata": {},
   "source": [
    "With the break statement we can stop the loop even if the while condition is true:"
   ]
  },
  {
   "cell_type": "code",
   "execution_count": 81,
   "metadata": {},
   "outputs": [
    {
     "name": "stdout",
     "output_type": "stream",
     "text": [
      "1\n",
      "2\n",
      "3\n"
     ]
    }
   ],
   "source": [
    "i = 1\n",
    "while i < 6:\n",
    "    print(i)\n",
    "    if i == 3:\n",
    "        break\n",
    "    i += 1"
   ]
  },
  {
   "cell_type": "markdown",
   "metadata": {},
   "source": [
    "With the continue statement we can stop the current iteration, and continue with the next:"
   ]
  },
  {
   "cell_type": "code",
   "execution_count": 82,
   "metadata": {},
   "outputs": [
    {
     "name": "stdout",
     "output_type": "stream",
     "text": [
      "1\n",
      "2\n",
      "4\n",
      "5\n",
      "6\n"
     ]
    }
   ],
   "source": [
    "i = 0\n",
    "while i < 6:\n",
    "    i += 1\n",
    "    if i == 3:\n",
    "        continue\n",
    "    print(i)"
   ]
  },
  {
   "cell_type": "markdown",
   "metadata": {},
   "source": [
    "With the else statement we can run a block of code once when the condition no longer is true:"
   ]
  },
  {
   "cell_type": "code",
   "execution_count": 84,
   "metadata": {},
   "outputs": [
    {
     "name": "stdout",
     "output_type": "stream",
     "text": [
      "1\n",
      "2\n",
      "3\n",
      "4\n",
      "5\n",
      "i is no longer less than 6\n"
     ]
    }
   ],
   "source": [
    "i = 1\n",
    "while i < 6:\n",
    "    print(i)\n",
    "    i += 1\n",
    "else:\n",
    "    print(\"i is no longer less than 6\")\n",
    "    "
   ]
  },
  {
   "cell_type": "markdown",
   "metadata": {},
   "source": [
    "### 5.0 Queue Data Structures"
   ]
  },
  {
   "cell_type": "markdown",
   "metadata": {},
   "source": [
    "### Priority Queue\n",
    "\n"
   ]
  },
  {
   "cell_type": "markdown",
   "metadata": {},
   "source": [
    "A priority queue is a data structure that stores elements with associated priorities. The elements are dequeued in order of their priorities. Python provides a convenient implementation of priority queues through the PriorityQueue class in the queue module."
   ]
  },
  {
   "cell_type": "code",
   "execution_count": 18,
   "metadata": {},
   "outputs": [],
   "source": [
    "from queue import PriorityQueue"
   ]
  },
  {
   "cell_type": "markdown",
   "metadata": {},
   "source": [
    "To create a PriorityQueue, simply instantiate the class. The elements added to the queue are tuples, where the first element represents the priority.\n",
    "\n",
    "The put method is used to add elements to the priority queue. Elements are inserted based on their associated priorities. Lower priority values indicate higher priority."
   ]
  },
  {
   "cell_type": "code",
   "execution_count": 86,
   "metadata": {},
   "outputs": [],
   "source": [
    "# Creating a PriorityQueue\n",
    "priority_queue = PriorityQueue()\n",
    "\n",
    "# Method 1: put(item, priority)\n",
    "# Adding elements to the PriorityQueue with associated priorities\n",
    "priority_queue.put((3, 'Task 1'))\n",
    "priority_queue.put((1, 'Task 2'))\n",
    "priority_queue.put((2, 'Task 3'))"
   ]
  },
  {
   "cell_type": "markdown",
   "metadata": {},
   "source": [
    "The get method retrieves and removes the element with the highest priority from the priority queue. In the example below, highest_priority_task will be ('Task 2', 1)."
   ]
  },
  {
   "cell_type": "code",
   "execution_count": 87,
   "metadata": {},
   "outputs": [
    {
     "name": "stdout",
     "output_type": "stream",
     "text": [
      "Task with highest priority: (1, 'Task 2')\n"
     ]
    }
   ],
   "source": [
    "# Method 2: get()\n",
    "# Retrieving and removing the element with the highest priority\n",
    "highest_priority_task = priority_queue.get()\n",
    "print(\"Task with highest priority:\", highest_priority_task)"
   ]
  },
  {
   "cell_type": "markdown",
   "metadata": {},
   "source": [
    "The empty method returns True if the priority queue is empty and False otherwise."
   ]
  },
  {
   "cell_type": "code",
   "execution_count": 88,
   "metadata": {},
   "outputs": [
    {
     "name": "stdout",
     "output_type": "stream",
     "text": [
      "Is the PriorityQueue empty? False\n"
     ]
    }
   ],
   "source": [
    "# Method 3: empty()\n",
    "# Checking if the PriorityQueue is empty\n",
    "is_empty = priority_queue.empty()\n",
    "print(\"Is the PriorityQueue empty?\", is_empty)\n"
   ]
  },
  {
   "cell_type": "markdown",
   "metadata": {},
   "source": [
    "The qsize method returns the number of elements currently in the priority queue. And the queue attribute provides direct access to the underlying queue as a list."
   ]
  },
  {
   "cell_type": "code",
   "execution_count": 89,
   "metadata": {},
   "outputs": [
    {
     "name": "stdout",
     "output_type": "stream",
     "text": [
      "Number of elements in the PriorityQueue: 2\n",
      "PriorityQueue as a list: [(2, 'Task 3'), (3, 'Task 1')]\n"
     ]
    }
   ],
   "source": [
    "# Method 4: qsize()\n",
    "# Getting the number of elements in the PriorityQueue\n",
    "number_of_elements = priority_queue.qsize()\n",
    "print(\"Number of elements in the PriorityQueue:\", number_of_elements)\n",
    "\n",
    "# Method 5: queue attribute\n",
    "# Accessing the underlying queue as a list\n",
    "queue_list = priority_queue.queue\n",
    "print(\"PriorityQueue as a list:\", queue_list)\n"
   ]
  },
  {
   "cell_type": "markdown",
   "metadata": {},
   "source": [
    "Now, create a function which will take inputs of tasks from a list and retrieve + print the highest priority task using priority queue while also deleling it from the queue."
   ]
  },
  {
   "cell_type": "code",
   "execution_count": 19,
   "metadata": {},
   "outputs": [],
   "source": [
    "def sort_tasks_by_priority(tasks):\n",
    "    # Function implementation here\n",
    "    # Creating a PriorityQueue\n",
    "    new_priority_queue = PriorityQueue()\n",
    "    for i in tasks:\n",
    "        new_priority_queue.put(i)\n",
    "    print(new_priority_queue.qsize())\n",
    "    print(new_priority_queue.queue)\n",
    "    print(new_priority_queue.get())\n",
    "    print(new_priority_queue.qsize())\n",
    "    print(new_priority_queue.queue)\n",
    "    return"
   ]
  },
  {
   "cell_type": "code",
   "execution_count": 20,
   "metadata": {},
   "outputs": [
    {
     "name": "stdout",
     "output_type": "stream",
     "text": [
      "6\n",
      "[(-1, 'Task 5'), (1, 'Task 2'), (0, 'Task 6'), (7, 'Task 4'), (3, 'Task 1'), (2, 'Task 3')]\n",
      "(-1, 'Task 5')\n",
      "5\n",
      "[(0, 'Task 6'), (1, 'Task 2'), (2, 'Task 3'), (7, 'Task 4'), (3, 'Task 1')]\n"
     ]
    }
   ],
   "source": [
    "# Test the function with a list of tasks and priorities\n",
    "\n",
    "tasks_and_priorities = [(3, 'Task 1'), (1, 'Task 2'), (2, 'Task 3'), (7, 'Task 4'), (-1, 'Task 5'), (0, 'Task 6')]\n",
    "\n",
    "sort_tasks_by_priority(tasks_and_priorities)"
   ]
  },
  {
   "cell_type": "markdown",
   "metadata": {},
   "source": [
    "### Heap Queue\n",
    "\n"
   ]
  },
  {
   "cell_type": "markdown",
   "metadata": {},
   "source": []
  },
  {
   "cell_type": "markdown",
   "metadata": {},
   "source": [
    "The heapq module in Python provides an implementation of the heap queue algorithm, also known as a binary heap. A binary heap is a complete binary tree that satisfies the heap property. The heapq module is a part of the standard library and is useful for tasks such as finding the N smallest or largest elements in a collection."
   ]
  },
  {
   "cell_type": "code",
   "execution_count": 1,
   "metadata": {},
   "outputs": [],
   "source": [
    "import heapq"
   ]
  },
  {
   "cell_type": "markdown",
   "metadata": {},
   "source": [
    "A heap is created using a list. The heapify function can be used to convert a regular list to a valid heap."
   ]
  },
  {
   "cell_type": "code",
   "execution_count": 2,
   "metadata": {},
   "outputs": [],
   "source": [
    "# Creating a heap\n",
    "heap = [(3, 'Three_'), (1, 'One'), (4, 'Four'), (1, 'One_'), (5, 'Five'), (9, 'Nine'), (2, 'Two'), (6, 'Six'), (5, 'Five_'), (3, 'Three'), (5, 'Five__')]\n",
    "heapq.heapify(heap)\n"
   ]
  },
  {
   "cell_type": "markdown",
   "metadata": {},
   "source": [
    "The heappush function adds an element to the heap while maintaining the heap property. The heappop function retrieves and removes the smallest element from the heap."
   ]
  },
  {
   "cell_type": "code",
   "execution_count": 3,
   "metadata": {},
   "outputs": [
    {
     "name": "stdout",
     "output_type": "stream",
     "text": [
      "Heap after adding (8, 'Eight'): [(1, 'One'), (1, 'One_'), (2, 'Two'), (3, 'Three_'), (3, 'Three'), (8, 'Eight'), (4, 'Four'), (6, 'Six'), (5, 'Five_'), (5, 'Five'), (5, 'Five__'), (9, 'Nine')]\n",
      "\n",
      "Smallest element: (1, 'One')\n"
     ]
    }
   ],
   "source": [
    "# Adding elements to the heap\n",
    "heapq.heappush(heap, (8, 'Eight'))\n",
    "print(\"Heap after adding (8, 'Eight'):\", heap)\n",
    "\n",
    "# Retrieving and removing the smallest element\n",
    "smallest = heapq.heappop(heap)\n",
    "print(\"\\nSmallest element:\", smallest)\n"
   ]
  },
  {
   "cell_type": "markdown",
   "metadata": {},
   "source": [
    "The smallest element in the heap can be accessed directly at the root (index 0). The nlargest function can be used to find the N largest elements in a collection."
   ]
  },
  {
   "cell_type": "code",
   "execution_count": 4,
   "metadata": {},
   "outputs": [
    {
     "name": "stdout",
     "output_type": "stream",
     "text": [
      "Smallest element directly: (1, 'One_')\n",
      "\n",
      "3 largest elements: [(9, 'Nine'), (8, 'Eight'), (6, 'Six')]\n"
     ]
    }
   ],
   "source": [
    "# Accessing the smallest element directly\n",
    "smallest_direct = heap[0]\n",
    "print(\"Smallest element directly:\", smallest_direct)\n",
    "\n",
    "# Finding the 3 largest elements\n",
    "largest_3 = heapq.nlargest(3, heap)\n",
    "print(\"\\n3 largest elements:\", largest_3)\n"
   ]
  },
  {
   "cell_type": "code",
   "execution_count": 5,
   "metadata": {},
   "outputs": [
    {
     "name": "stdout",
     "output_type": "stream",
     "text": [
      "[(1, 'One_'), (3, 'Three'), (2, 'Two'), (3, 'Three_'), (5, 'Five'), (8, 'Eight'), (4, 'Four'), (6, 'Six'), (5, 'Five_'), (9, 'Nine'), (5, 'Five__')]\n"
     ]
    }
   ],
   "source": [
    "print(heap)"
   ]
  },
  {
   "cell_type": "markdown",
   "metadata": {},
   "source": [
    "The heapq.merge function merges multiple sorted inputs (iterables) into a single sorted output."
   ]
  },
  {
   "cell_type": "code",
   "execution_count": 6,
   "metadata": {},
   "outputs": [
    {
     "name": "stdout",
     "output_type": "stream",
     "text": [
      "Merged heap: [(1, 'One_'), (3, 'Three'), (2, 'Two'), (3, 'Three_'), (5, 'Five'), (7, 'Seven'), (2, 'Two'), (8, 'Eight'), (4, 'Four'), (6, 'Six'), (5, 'Five_'), (8, 'Eight'), (1, 'One'), (9, 'Nine'), (5, 'Five__')]\n"
     ]
    }
   ],
   "source": [
    "# Merging two heaps\n",
    "heap2 = [(7, 'Seven'), (2, 'Two'), (8, 'Eight'), (1, 'One')]\n",
    "merged_heap = list(heapq.merge(heap, heap2))\n",
    "print(\"Merged heap:\", merged_heap)\n"
   ]
  },
  {
   "cell_type": "markdown",
   "metadata": {},
   "source": [
    "Now, repeat the same exersise with a heap implementation"
   ]
  },
  {
   "cell_type": "code",
   "execution_count": 15,
   "metadata": {},
   "outputs": [
    {
     "name": "stdout",
     "output_type": "stream",
     "text": [
      "6\n",
      "[(-1, 'Task 5'), (1, 'Task 2'), (0, 'Task 6'), (7, 'Task 4'), (3, 'Task 1'), (2, 'Task 3')]\n",
      "(-1, 'Task 5')\n",
      "5\n",
      "[(0, 'Task 6'), (1, 'Task 2'), (2, 'Task 3'), (7, 'Task 4'), (3, 'Task 1')]\n"
     ]
    }
   ],
   "source": [
    "def sort_tasks_by_priority(tasks):\n",
    "    # Function implementation here\n",
    "    import heapq\n",
    "\n",
    "    heapq.heapify(tasks)\n",
    "    print(len(tasks))\n",
    "    print(tasks)\n",
    "    smallest_task = heapq.heappop(tasks)\n",
    "    print(smallest_task)\n",
    "    print(len(tasks))\n",
    "    print(tasks)\n",
    "\n",
    "    return\n",
    "\n",
    "# Test the function with a list of tasks and priorities\n",
    "\n",
    "tasks_and_priorities = [(3, 'Task 1'), (1, 'Task 2'), (2, 'Task 3'), (7, 'Task 4'), (-1, 'Task 5'), (0, 'Task 6')]\n",
    "\n",
    "sort_tasks_by_priority(tasks_and_priorities)"
   ]
  },
  {
   "cell_type": "markdown",
   "metadata": {},
   "source": [
    "## Plotting using Matplotlib"
   ]
  },
  {
   "cell_type": "markdown",
   "metadata": {},
   "source": [
    "matplotlib.pyplot is a collection of command style functions that make matplotlib work like MATLAB. Each pyplot function makes some change to a figure: e.g., creates a figure, creates a plotting area in a figure, plots some lines in a plotting area, decorates the plot with labels, etc."
   ]
  },
  {
   "cell_type": "code",
   "execution_count": 10,
   "metadata": {},
   "outputs": [
    {
     "name": "stdout",
     "output_type": "stream",
     "text": [
      "Collecting matplotlib\n",
      "  Downloading https://files.pythonhosted.org/packages/0a/0e/17a2f293bf37f3ba92600cb2f6bf4a7fd21e96d2101531ddab7e157776ab/matplotlib-3.5.3-cp37-cp37m-win32.whl (7.1MB)\n",
      "Requirement already satisfied: python-dateutil>=2.7 in c:\\users\\keyur\\appdata\\roaming\\python\\python37\\site-packages (from matplotlib) (2.8.2)\n",
      "Collecting pyparsing>=2.2.1 (from matplotlib)\n",
      "  Downloading https://files.pythonhosted.org/packages/39/92/8486ede85fcc088f1b3dba4ce92dd29d126fd96b0008ea213167940a2475/pyparsing-3.1.1-py3-none-any.whl (103kB)\n",
      "Requirement already satisfied: packaging>=20.0 in c:\\users\\keyur\\appdata\\roaming\\python\\python37\\site-packages (from matplotlib) (23.1)\n",
      "Collecting fonttools>=4.22.0 (from matplotlib)\n",
      "  Downloading https://files.pythonhosted.org/packages/e3/d9/e9bae85e84737e76ebbcbea13607236da0c0699baed0ae4f1151b728a608/fonttools-4.38.0-py3-none-any.whl (965kB)\n",
      "Collecting pillow>=6.2.0 (from matplotlib)\n",
      "  Downloading https://files.pythonhosted.org/packages/97/d2/f0b4c006c8997aff5277cdde18187c55ce767f9fd32b2dd657c1bf71b570/Pillow-9.5.0-cp37-cp37m-win32.whl (2.2MB)\n",
      "Requirement already satisfied: numpy>=1.17 in c:\\users\\keyur\\appdata\\local\\programs\\python\\python37-32\\lib\\site-packages (from matplotlib) (1.20.1)\n",
      "Collecting cycler>=0.10 (from matplotlib)\n",
      "  Downloading https://files.pythonhosted.org/packages/5c/f9/695d6bedebd747e5eb0fe8fad57b72fdf25411273a39791cde838d5a8f51/cycler-0.11.0-py3-none-any.whl\n",
      "Collecting kiwisolver>=1.0.1 (from matplotlib)\n",
      "  Downloading https://files.pythonhosted.org/packages/a6/fc/d036c3832de1b30fbf27ca61b483f737b02d6f1f85b1fcedb3861fd96efa/kiwisolver-1.4.5-cp37-cp37m-win32.whl (47kB)\n",
      "Requirement already satisfied: six>=1.5 in c:\\users\\keyur\\appdata\\local\\programs\\python\\python37-32\\lib\\site-packages (from python-dateutil>=2.7->matplotlib) (1.15.0)\n",
      "Collecting typing-extensions; python_version < \"3.8\" (from kiwisolver>=1.0.1->matplotlib)\n",
      "  Downloading https://files.pythonhosted.org/packages/ec/6b/63cc3df74987c36fe26157ee12e09e8f9db4de771e0f3404263117e75b95/typing_extensions-4.7.1-py3-none-any.whl\n",
      "Installing collected packages: pyparsing, fonttools, pillow, cycler, typing-extensions, kiwisolver, matplotlib\n",
      "Successfully installed cycler-0.11.0 fonttools-4.38.0 kiwisolver-1.4.5 matplotlib-3.5.3 pillow-9.5.0 pyparsing-3.1.1 typing-extensions-4.7.1\n",
      "Note: you may need to restart the kernel to use updated packages.\n"
     ]
    },
    {
     "name": "stderr",
     "output_type": "stream",
     "text": [
      "You are using pip version 10.0.1, however version 24.0 is available.\n",
      "You should consider upgrading via the 'python -m pip install --upgrade pip' command.\n"
     ]
    }
   ],
   "source": [
    "pip install matplotlib"
   ]
  },
  {
   "cell_type": "code",
   "execution_count": 11,
   "metadata": {},
   "outputs": [
    {
     "data": {
      "image/png": "[encoded data removed]",
      "text/plain": [
       "<Figure size 640x480 with 1 Axes>"
      ]
     },
     "metadata": {},
     "output_type": "display_data"
    }
   ],
   "source": [
    "import matplotlib.pyplot as plt\n",
    "plt.plot([1, 2, 3, 4])\n",
    "plt.ylabel('some numbers')\n",
    "plt.show()"
   ]
  },
  {
   "cell_type": "markdown",
   "metadata": {},
   "source": [
    "#### Formatting the style of your plot\n",
    "For every x, y pair of arguments, there is an optional third argument which is the format string that indicates the color and line type of the plot. The letters and symbols of the format string are from MATLAB, and you concatenate a color string with a line style string. The default format string is 'b-', which is a solid blue line. For example, to plot the above with red circles, you would issue"
   ]
  },
  {
   "cell_type": "code",
   "execution_count": 12,
   "metadata": {},
   "outputs": [
    {
     "data": {
      "image/png": "[encoded data removed]",
      "text/plain": [
       "<Figure size 640x480 with 1 Axes>"
      ]
     },
     "metadata": {},
     "output_type": "display_data"
    }
   ],
   "source": [
    "plt.plot([1, 2, 3, 4], [1, 4, 9, 16], 'ro')\n",
    "plt.axis([0, 6, 0, 20])\n",
    "plt.show()"
   ]
  },
  {
   "cell_type": "markdown",
   "metadata": {},
   "source": [
    "If matplotlib were limited to working with lists, it would be fairly useless for numeric processing. Generally, you will use numpy arrays. In fact, all sequences are converted to numpy arrays internally. The example below illustrates a plotting several lines with different format styles in one command using arrays."
   ]
  },
  {
   "cell_type": "code",
   "execution_count": 13,
   "metadata": {},
   "outputs": [
    {
     "data": {
      "image/png": "[encoded data removed]",
      "text/plain": [
       "<Figure size 640x480 with 1 Axes>"
      ]
     },
     "metadata": {},
     "output_type": "display_data"
    }
   ],
   "source": [
    "import numpy as np\n",
    "\n",
    "# evenly sampled time at 200ms intervals\n",
    "t = np.arange(0., 5., 0.2)\n",
    "\n",
    "# red dashes, blue squares and green triangles\n",
    "plt.plot(t, t, 'r--', t, t**2, 'bs', t, t**3, 'g^')\n",
    "plt.show()\n"
   ]
  },
  {
   "cell_type": "code",
   "execution_count": 1,
   "metadata": {},
   "outputs": [
    {
     "name": "stdout",
     "output_type": "stream",
     "text": [
      "Collecting pygame\n",
      "  Downloading https://files.pythonhosted.org/packages/81/63/290f18edd4860529340572db3be0463917b49181e29ce64e695b9aa516ef/pygame-2.5.2-cp37-cp37m-win32.whl (10.4MB)\n",
      "Installing collected packages: pygame\n",
      "Successfully installed pygame-2.5.2\n",
      "Note: you may need to restart the kernel to use updated packages.\n"
     ]
    },
    {
     "name": "stderr",
     "output_type": "stream",
     "text": [
      "You are using pip version 10.0.1, however version 24.0 is available.\n",
      "You should consider upgrading via the 'python -m pip install --upgrade pip' command.\n"
     ]
    }
   ],
   "source": [
    "pip install pygame"
   ]
  },
  {
   "cell_type": "code",
   "execution_count": 2,
   "metadata": {},
   "outputs": [
    {
     "name": "stdout",
     "output_type": "stream",
     "text": [
      "Package           Version \n",
      "----------------- --------\n",
      "backcall          0.2.0   \n",
      "colorama          0.4.6   \n",
      "cycler            0.11.0  \n",
      "debugpy           1.6.7   \n",
      "decorator         5.1.1   \n",
      "entrypoints       0.4     \n",
      "fonttools         4.38.0  \n",
      "ipykernel         6.16.2  \n",
      "ipython           7.34.0  \n",
      "jedi              0.18.2  \n",
      "jupyter-client    7.4.9   \n",
      "jupyter-core      4.12.0  \n",
      "kiwisolver        1.4.5   \n",
      "matplotlib        3.5.3   \n",
      "matplotlib-inline 0.1.6   \n",
      "nest-asyncio      1.5.6   \n",
      "numpy             1.20.1  \n",
      "opencv-python     4.5.1.48\n",
      "packaging         23.1    \n",
      "parso             0.8.3   \n",
      "pickleshare       0.7.5   \n",
      "Pillow            9.5.0   \n",
      "pip               10.0.1  \n",
      "plotly            4.14.1  \n",
      "prompt-toolkit    3.0.38  \n",
      "psutil            5.9.5   \n",
      "pygame            2.5.2   \n",
      "Pygments          2.15.1  \n",
      "pyparsing         3.1.1   \n",
      "python-dateutil   2.8.2   \n",
      "pywin32           306     \n",
      "pyzmq             25.0.2  \n",
      "retrying          1.3.3   \n",
      "setuptools        39.0.1  \n",
      "six               1.15.0  \n",
      "tornado           6.2     \n",
      "traitlets         5.9.0   \n",
      "typing-extensions 4.7.1   \n",
      "wcwidth           0.2.6   \n",
      "Note: you may need to restart the kernel to use updated packages.\n"
     ]
    },
    {
     "name": "stderr",
     "output_type": "stream",
     "text": [
      "You are using pip version 10.0.1, however version 24.0 is available.\n",
      "You should consider upgrading via the 'python -m pip install --upgrade pip' command.\n"
     ]
    }
   ],
   "source": [
    "pip list"
   ]
  },
  {
   "cell_type": "code",
   "execution_count": 3,
   "metadata": {},
   "outputs": [
    {
     "name": "stdout",
     "output_type": "stream",
     "text": [
      "pygame 2.5.2 (SDL 2.28.3, Python 3.7.1)\n",
      "Hello from the pygame community. https://www.pygame.org/contribute.html\n"
     ]
    }
   ],
   "source": [
    "import pygame"
   ]
  },
  {
   "cell_type": "code",
   "execution_count": 5,
   "metadata": {},
   "outputs": [],
   "source": [
    "\n",
    "import pygame\n",
    "import time\n",
    "import numpy as np\n",
    "\n",
    "# open the file for reading\n",
    "with open('nodePath.txt', 'r') as f:\n",
    "    # read the content of the file\n",
    "    content = f.read()\n",
    "\n",
    "# split the content by blank line to get a list of matrix strings\n",
    "strings = content.strip().split('\\n')\n",
    "\n",
    "# create a list of 3x3 matrices from the matrix strings\n",
    "track = []\n",
    "for string in strings:\n",
    "    values = list(map(int, string.split()))\n",
    "    state = np.array(values).reshape(3, 3)\n",
    "#     print(state)\n",
    "    track.append(state.T)\n",
    "# track.reverse()\n",
    "# initialize pygame\n",
    "pygame.init()\n",
    "\n",
    "# set the size of the game window\n",
    "window_size = (300, 300)\n",
    "screen = pygame.display.set_mode(window_size)\n",
    "\n",
    "# set the title of the game window\n",
    "pygame.display.set_caption(\"8 Puzzle Game\")\n",
    "\n",
    "# define colors\n",
    "white = (255, 255, 255)\n",
    "black = (0, 0, 0)\n",
    "grey = (128, 128, 128)\n",
    "\n",
    "# set the font\n",
    "font = pygame.font.SysFont('Arial', 30)\n",
    "\n",
    "# define the size of the puzzle grid\n",
    "grid_size = 3\n",
    "cell_size = 100\n",
    "\n",
    "# define the position of the puzzle numbers\n",
    "puzzle_positions = [(i % grid_size, i // grid_size) for i in range(grid_size ** 2)]\n",
    "\n",
    "# define the position of the empty cell\n",
    "empty_position = puzzle_positions[-1]\n",
    "\n",
    "\n",
    "\n",
    "# define a function to draw the puzzle board\n",
    "def draw_board():\n",
    "    for i in range(grid_size):\n",
    "        for j in range(grid_size):\n",
    "            x = j * cell_size\n",
    "            y = i * cell_size\n",
    "            index = puzzle_positions.index((j, i))\n",
    "            number = puzzle_numbers[index]\n",
    "            if number != 0:\n",
    "                pygame.draw.rect(screen, white, (x, y, cell_size, cell_size))\n",
    "                text = font.render(str(number), True, black)\n",
    "                text_rect = text.get_rect(center=(x+cell_size/2, y+cell_size/2))\n",
    "                screen.blit(text, text_rect)\n",
    "            else:\n",
    "                pygame.draw.rect(screen, grey, (x, y, cell_size, cell_size))\n",
    "\n",
    "# define the main game loop\n",
    "running = True\n",
    "\n",
    "i=0\n",
    "while running  :\n",
    "    # handle events\n",
    "    for event in pygame.event.get():\n",
    "        if event.type == pygame.QUIT:\n",
    "            running = False\n",
    "    \n",
    "    # clear the screen\n",
    "    screen.fill(grey)\n",
    "    \n",
    "#     update position\n",
    "    if i<len(track):\n",
    "        puzzle_numbers=track[i].flatten()\n",
    "        i+=1\n",
    "    # draw the puzzle board\n",
    "    draw_board()\n",
    "    time.sleep(1)\n",
    "    # update the screen\n",
    "    pygame.display.update()\n",
    "    \n",
    "\n",
    "# quit pygame\n",
    "pygame.quit()\n"
   ]
  },
  {
   "cell_type": "markdown",
   "metadata": {},
   "source": [
    "# Learning Virtual Environment in Vscode\n",
    "\n",
    "###### Step 1: Create virtual environment using command prompt\n",
    "######            you can see terminal in vscode, change to command prompt and type\n",
    "######            python -m venv .enpm661 \n",
    "######            This will create a virtual environment named .enpm661, now to activate it go to folder containing virtiual env and type:\n",
    "######            .enpm661\\Scripts\\activate\n",
    "######            This will activate virtual env on command prompt, to deactivate it just replace with deativate"
   ]
  },
  {
   "cell_type": "markdown",
   "metadata": {},
   "source": [
    "###### Step2: to add this env on vs code, click on select kernal and click on select another kernel, now enter the path python.exe to add env manually.\n",
    "###### Path is located as follow: .enpm661\\Scripts\\python.exe\n",
    "###### just right click it and get the path of pyhton.exe and paste on the path of the env box and thats how you can add venv on the vscode  interpreter"
   ]
  },
  {
   "cell_type": "markdown",
   "metadata": {},
   "source": [
    "# Understanding Stack and Deque"
   ]
  },
  {
   "cell_type": "code",
   "execution_count": 15,
   "metadata": {},
   "outputs": [
    {
     "name": "stdout",
     "output_type": "stream",
     "text": [
      "deque(['1', '2', '3', '4'])\n",
      "4\n",
      "deque(['1', '2', '3'])\n",
      "None\n",
      "deque(['3', '1', '2'])\n",
      "None\n",
      "deque(['4', '3', '1', '2'])\n",
      "4\n"
     ]
    }
   ],
   "source": [
    "# Deque\n",
    "from collections import deque\n",
    "queue=deque([\"1\",\"2\",\"3\"])\n",
    "queue.append(\"4\")\n",
    "print(queue)\n",
    "print(queue.pop())\n",
    "print(queue)\n",
    "print(queue.rotate())\n",
    "print(queue)\n",
    "print(queue.insert(0,\"4\"))\n",
    "print(queue)\n",
    "print(queue.popleft())\n"
   ]
  },
  {
   "cell_type": "code",
   "execution_count": null,
   "metadata": {},
   "outputs": [],
   "source": []
  }
 ],
 "metadata": {
  "kernelspec": {
   "display_name": "Python 3",
   "language": "python",
   "name": "python3"
  },
  "language_info": {
   "codemirror_mode": {
    "name": "ipython",
    "version": 3
   },
   "file_extension": ".py",
   "mimetype": "text/x-python",
   "name": "python",
   "nbconvert_exporter": "python",
   "pygments_lexer": "ipython3",
   "version": "3.12.2"
  }
 },
 "nbformat": 4,
 "nbformat_minor": 2
}
